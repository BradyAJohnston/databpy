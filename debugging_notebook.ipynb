{
 "cells": [
  {
   "cell_type": "code",
   "execution_count": 97,
   "metadata": {},
   "outputs": [],
   "source": [
    "%reload_ext autoreload\n",
    "%autoreload 2"
   ]
  },
  {
   "cell_type": "code",
   "execution_count": 98,
   "metadata": {},
   "outputs": [
    {
     "name": "stdout",
     "output_type": "stream",
     "text": [
      "/Users/jan-hendrik/projects/databpy/databpy/__init__.py\n"
     ]
    }
   ],
   "source": [
    "import sys\n",
    "from pathlib import Path\n",
    "\n",
    "project_root = Path.home() / \"projects/databpy/\"\n",
    "sys.path.append(str(project_root))\n",
    "\n",
    "import databpy\n",
    "print(databpy.__file__)"
   ]
  },
  {
   "cell_type": "code",
   "execution_count": 101,
   "metadata": {},
   "outputs": [
    {
     "data": {
      "text/plain": [
       "bpy.data.meshes['Box.001'].attributes[\"vals\"]"
      ]
     },
     "execution_count": 101,
     "metadata": {},
     "output_type": "execute_result"
    }
   ],
   "source": [
    "import numpy as np\n",
    "import databpy as db\n",
    "\n",
    "coords = np.array([\n",
    "    [0, 0, 0],\n",
    "    [0, 5, 0],\n",
    "    [5, 0, 0],\n",
    "    [5, 5, 0]\n",
    "])\n",
    "\n",
    "obj = db.create_object(coords, name=\"Box\")\n",
    "db.store_named_attribute(obj, np.array([10, 20, 31, 42]), \"vals\")\n"
   ]
  }
 ],
 "metadata": {
  "kernelspec": {
   "display_name": "Python 3 (ipykernel)",
   "language": "python",
   "name": "python3"
  }
 },
 "nbformat": 4,
 "nbformat_minor": 2
}
